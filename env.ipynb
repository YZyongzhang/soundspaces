{
 "cells": [
  {
   "cell_type": "code",
   "execution_count": 5,
   "metadata": {},
   "outputs": [
    {
     "name": "stdout",
     "output_type": "stream",
     "text": [
      "Forward Amount: 0.5\n"
     ]
    }
   ],
   "source": [
    "import sys\n",
    "import argparse\n",
    "\n",
    "sys.argv = ['script_name', '--forward_amount', '0.5']\n",
    "\n",
    "parser = argparse.ArgumentParser()\n",
    "parser.add_argument('--forward_amount', type=float, help='前进的距离')\n",
    "\n",
    "args = parser.parse_args()\n",
    "\n",
    "print(f\"Forward Amount: {args.forward_amount}\")"
   ]
  },
  {
   "cell_type": "code",
   "execution_count": 6,
   "metadata": {},
   "outputs": [
    {
     "name": "stderr",
     "output_type": "stream",
     "text": [
      "/home/kongxiangyu/anaconda3/envs/ss/lib/python3.9/site-packages/tqdm-4.66.1-py3.9.egg/tqdm/auto.py:21: TqdmWarning: IProgress not found. Please update jupyter and ipywidgets. See https://ipywidgets.readthedocs.io/en/stable/user_install.html\n",
      "  from .autonotebook import tqdm as notebook_tqdm\n",
      "2024-10-28 08:34:43.865361: I tensorflow/core/util/port.cc:111] oneDNN custom operations are on. You may see slightly different numerical results due to floating-point round-off errors from different computation orders. To turn them off, set the environment variable `TF_ENABLE_ONEDNN_OPTS=0`.\n",
      "2024-10-28 08:34:43.884711: E tensorflow/compiler/xla/stream_executor/cuda/cuda_dnn.cc:9342] Unable to register cuDNN factory: Attempting to register factory for plugin cuDNN when one has already been registered\n",
      "2024-10-28 08:34:43.884731: E tensorflow/compiler/xla/stream_executor/cuda/cuda_fft.cc:609] Unable to register cuFFT factory: Attempting to register factory for plugin cuFFT when one has already been registered\n",
      "2024-10-28 08:34:43.884744: E tensorflow/compiler/xla/stream_executor/cuda/cuda_blas.cc:1518] Unable to register cuBLAS factory: Attempting to register factory for plugin cuBLAS when one has already been registered\n",
      "2024-10-28 08:34:43.888935: I tensorflow/core/platform/cpu_feature_guard.cc:182] This TensorFlow binary is optimized to use available CPU instructions in performance-critical operations.\n",
      "To enable the following instructions: AVX2 AVX_VNNI FMA, in other operations, rebuild TensorFlow with the appropriate compiler flags.\n",
      "2024-10-28 08:34:44.332969: W tensorflow/compiler/tf2tensorrt/utils/py_utils.cc:38] TF-TRT Warning: Could not find TensorRT\n"
     ]
    }
   ],
   "source": [
    "from config import config\n",
    "from env.v0d0 import Env\n",
    "import torch\n",
    "import numpy as np\n",
    "import habitat_sim\n",
    "from habitat.utils.visualizations import maps\n",
    "import random\n",
    "from draw import Draw\n",
    "random.seed(config[\"random_seed\"])"
   ]
  },
  {
   "cell_type": "code",
   "execution_count": 10,
   "metadata": {},
   "outputs": [
    {
     "name": "stdout",
     "output_type": "stream",
     "text": [
      "[08:44:41:928885]:[Metadata] AttributesManagerBase.h(380)::createFromJsonOrDefaultInternal : <Dataset>: Proposing JSON name : default.scene_dataset_config.json from original name : default| This file does not exist.\n",
      "[08:44:41:928939]:[Metadata] AssetAttributesManager.cpp(121)::createObject : Asset attributes (capsule3DSolid:capsule3DSolid_hemiRings_4_cylRings_1_segments_12_halfLen_0.75_useTexCoords_false_useTangents_false) created and registered.\n",
      "[08:44:41:928956]:[Metadata] AssetAttributesManager.cpp(121)::createObject : Asset attributes (capsule3DWireframe:capsule3DWireframe_hemiRings_8_cylRings_1_segments_16_halfLen_1) created and registered.\n",
      "[08:44:41:928964]:[Metadata] AssetAttributesManager.cpp(121)::createObject : Asset attributes (coneSolid:coneSolid_segments_12_halfLen_1.25_rings_1_useTexCoords_false_useTangents_false_capEnd_true) created and registered.\n",
      "[08:44:41:928972]:[Metadata] AssetAttributesManager.cpp(121)::createObject : Asset attributes (coneWireframe:coneWireframe_segments_32_halfLen_1.25) created and registered.\n",
      "[08:44:41:928979]:[Metadata] AssetAttributesManager.cpp(121)::createObject : Asset attributes (cubeSolid:cubeSolid) created and registered.\n",
      "[08:44:41:928989]:[Metadata] AssetAttributesManager.cpp(121)::createObject : Asset attributes (cubeWireframe:cubeWireframe) created and registered.\n",
      "[08:44:41:928997]:[Metadata] AssetAttributesManager.cpp(121)::createObject : Asset attributes (cylinderSolid:cylinderSolid_rings_1_segments_12_halfLen_1_useTexCoords_false_useTangents_false_capEnds_true) created and registered.\n",
      "[08:44:41:929005]:[Metadata] AssetAttributesManager.cpp(121)::createObject : Asset attributes (cylinderWireframe:cylinderWireframe_rings_1_segments_32_halfLen_1) created and registered.\n",
      "[08:44:41:929010]:[Metadata] AssetAttributesManager.cpp(121)::createObject : Asset attributes (icosphereSolid:icosphereSolid_subdivs_1) created and registered.\n",
      "[08:44:41:929016]:[Metadata] AssetAttributesManager.cpp(121)::createObject : Asset attributes (icosphereWireframe:icosphereWireframe_subdivs_1) created and registered.\n",
      "[08:44:41:929023]:[Metadata] AssetAttributesManager.cpp(121)::createObject : Asset attributes (uvSphereSolid:uvSphereSolid_rings_8_segments_16_useTexCoords_false_useTangents_false) created and registered.\n",
      "[08:44:41:929030]:[Metadata] AssetAttributesManager.cpp(121)::createObject : Asset attributes (uvSphereWireframe:uvSphereWireframe_rings_16_segments_32) created and registered.\n",
      "[08:44:41:929034]:[Metadata] AssetAttributesManager.cpp(110)::AssetAttributesManager : Built default primitive asset templates : 12\n",
      "[08:44:41:929124]:[Metadata] SceneDatasetAttributesManager.cpp(35)::createObject : File (default) not found, so new default dataset attributes created  and registered.\n",
      "[08:44:41:929127]:[Metadata] MetadataMediator.cpp(120)::createSceneDataset : Dataset default successfully created.\n",
      "[08:44:41:929138]:[Metadata] AttributesManagerBase.h(380)::createFromJsonOrDefaultInternal : <Physics Manager>: Proposing JSON name : ./data/default.physics_config.json from original name : ./data/default.physics_config.json| This file does not exist.\n",
      "[08:44:41:929145]:[Metadata] PhysicsAttributesManager.cpp(26)::createObject : File (./data/default.physics_config.json) not found, so new default physics manager attributes created and registered.\n",
      "[08:44:41:929149]:[Metadata] MetadataMediator.cpp(210)::setActiveSceneDatasetName : Attempting to create new dataset ../data/scene_datasets/mp3d/mp3d.scene_dataset_config.json\n",
      "[08:44:41:929154]:[Metadata] AttributesManagerBase.h(380)::createFromJsonOrDefaultInternal : <Dataset>: Proposing JSON name : ../data/scene_datasets/mp3d/mp3d.scene_dataset_config.json from original name : ../data/scene_datasets/mp3d/mp3d.scene_dataset_config.json| This file exists.\n",
      "[08:44:41:929180]:[Metadata] AssetAttributesManager.cpp(121)::createObject : Asset attributes (capsule3DSolid:capsule3DSolid_hemiRings_4_cylRings_1_segments_12_halfLen_0.75_useTexCoords_false_useTangents_false) created and registered.\n",
      "[08:44:41:929187]:[Metadata] AssetAttributesManager.cpp(121)::createObject : Asset attributes (capsule3DWireframe:capsule3DWireframe_hemiRings_8_cylRings_1_segments_16_halfLen_1) created and registered.\n",
      "[08:44:41:929193]:[Metadata] AssetAttributesManager.cpp(121)::createObject : Asset attributes (coneSolid:coneSolid_segments_12_halfLen_1.25_rings_1_useTexCoords_false_useTangents_false_capEnd_true) created and registered.\n",
      "[08:44:41:929199]:[Metadata] AssetAttributesManager.cpp(121)::createObject : Asset attributes (coneWireframe:coneWireframe_segments_32_halfLen_1.25) created and registered.\n",
      "[08:44:41:929205]:[Metadata] AssetAttributesManager.cpp(121)::createObject : Asset attributes (cubeSolid:cubeSolid) created and registered.\n",
      "[08:44:41:929210]:[Metadata] AssetAttributesManager.cpp(121)::createObject : Asset attributes (cubeWireframe:cubeWireframe) created and registered.\n",
      "[08:44:41:929215]:[Metadata] AssetAttributesManager.cpp(121)::createObject : Asset attributes (cylinderSolid:cylinderSolid_rings_1_segments_12_halfLen_1_useTexCoords_false_useTangents_false_capEnds_true) created and registered.\n",
      "[08:44:41:929221]:[Metadata] AssetAttributesManager.cpp(121)::createObject : Asset attributes (cylinderWireframe:cylinderWireframe_rings_1_segments_32_halfLen_1) created and registered.\n",
      "[08:44:41:929226]:[Metadata] AssetAttributesManager.cpp(121)::createObject : Asset attributes (icosphereSolid:icosphereSolid_subdivs_1) created and registered.\n",
      "[08:44:41:929232]:[Metadata] AssetAttributesManager.cpp(121)::createObject : Asset attributes (icosphereWireframe:icosphereWireframe_subdivs_1) created and registered.\n",
      "[08:44:41:929237]:[Metadata] AssetAttributesManager.cpp(121)::createObject : Asset attributes (uvSphereSolid:uvSphereSolid_rings_8_segments_16_useTexCoords_false_useTangents_false) created and registered.\n",
      "[08:44:41:929243]:[Metadata] AssetAttributesManager.cpp(121)::createObject : Asset attributes (uvSphereWireframe:uvSphereWireframe_rings_16_segments_32) created and registered.\n",
      "[08:44:41:929247]:[Metadata] AssetAttributesManager.cpp(110)::AssetAttributesManager : Built default primitive asset templates : 12\n",
      "[08:44:41:929351]:[Metadata] AttributesManagerBase.h(265)::loadAllFileBasedTemplates : Loading 1  Stage Template templates found in ../data/scene_datasets/mp3d/17DRP5sb8fy\n",
      "[08:44:41:929358]:[Metadata] AttributesManagerBase.h(380)::createFromJsonOrDefaultInternal : <Stage Template>: Proposing JSON name : ../data/scene_datasets/mp3d/17DRP5sb8fy/17DRP5sb8fy.stage_config.json from original name : ../data/scene_datasets/mp3d/17DRP5sb8fy/17DRP5sb8fy.glb| This file does not exist.\n",
      "[08:44:41:929377]:[Metadata] AbstractObjectAttributesManagerBase.h(184)::createObject : File (../data/scene_datasets/mp3d/17DRP5sb8fy/17DRP5sb8fy.glb) exists but is not a recognized config filename extension, so new default Stage Template attributes created and registered.\n",
      "[08:44:41:929381]:[Metadata] AttributesManagerBase.h(285)::loadAllFileBasedTemplates : <Stage Template> : Loaded file-based templates: 1\n",
      "[08:44:41:929384]:[Metadata] AttributesManagerBase.h(360)::buildAttrSrcPathsFromJSONAndLoad : <Stage Template>:1paths specified in JSON doc forStage Templatetemplates.\n",
      "[08:44:41:929416]:[Metadata] SceneDatasetAttributesManager.cpp(35)::createObject : JSON Configuration File (../data/scene_datasets/mp3d/mp3d.scene_dataset_config.json) based dataset attributes created  and registered.\n",
      "[08:44:41:929419]:[Metadata] MetadataMediator.cpp(120)::createSceneDataset : Dataset ../data/scene_datasets/mp3d/mp3d.scene_dataset_config.json successfully created.\n",
      "[08:44:41:929422]:[Metadata] MetadataMediator.cpp(217)::setActiveSceneDatasetName : Attempt to create new dataset ../data/scene_datasets/mp3d/mp3d.scene_dataset_config.json   succeeded. Currently active dataset : ../data/scene_datasets/mp3d/mp3d.scene_dataset_config.json\n",
      "[08:44:41:929426]:[Metadata] MetadataMediator.cpp(175)::setCurrPhysicsAttributesHandle : Old physics manager attributes  changed to ./data/default.physics_config.json successfully.\n",
      "[08:44:41:929430]:[Metadata] MetadataMediator.cpp(66)::setSimulatorConfiguration : Set new simulator config for scene/stage : ../data/scene_datasets/mp3d/17DRP5sb8fy/17DRP5sb8fy.glb and dataset : ../data/scene_datasets/mp3d/mp3d.scene_dataset_config.json which is currently active dataset.\n",
      "Renderer: NVIDIA GeForce RTX 4090/PCIe/SSE2 by NVIDIA Corporation\n",
      "OpenGL version: 4.6.0 NVIDIA 535.183.01\n",
      "Using optional features:\n",
      "    GL_ARB_vertex_array_object\n",
      "    GL_ARB_ES2_compatibility\n",
      "    GL_ARB_separate_shader_objects\n",
      "    GL_ARB_robustness\n",
      "    GL_ARB_texture_storage\n",
      "    GL_ARB_invalidate_subdata\n",
      "    GL_ARB_texture_storage_multisample\n",
      "    GL_ARB_multi_bind\n",
      "    GL_ARB_direct_state_access\n",
      "    GL_ARB_get_texture_sub_image\n",
      "    GL_ARB_texture_filter_anisotropic\n",
      "    GL_KHR_debug\n",
      "Using driver workarounds:\n",
      "    no-forward-compatible-core-context\n",
      "    nv-egl-incorrect-gl11-function-pointers\n",
      "    no-layout-qualifiers-on-old-glsl\n",
      "    nv-zero-context-profile-mask\n",
      "    nv-implementation-color-read-format-dsa-broken\n",
      "    nv-cubemap-inconsistent-compressed-image-size\n",
      "    nv-cubemap-broken-full-compressed-image-query\n",
      "    nv-compressed-block-size-in-bits\n",
      "[08:44:41:998991]:[Metadata] MetadataMediator.cpp(279)::getSceneInstanceAttributesByName : No existing scene instance attributes containing name ../data/scene_datasets/mp3d/17DRP5sb8fy/17DRP5sb8fy.glb found in Dataset : ../data/scene_datasets/mp3d/mp3d.scene_dataset_config.json but 1 StageAttributes found.  Using ../data/scene_datasets/mp3d/17DRP5sb8fy/17DRP5sb8fy.glb as stage and to construct a SceneInstanceAttributes with same name that will be added to Dataset.\n",
      "[08:44:41:999024]:[Metadata] SceneDatasetAttributes.cpp(47)::addNewSceneInstanceToDataset : Dataset : 'mp3d' : Stage Attributes '../data/scene_datasets/mp3d/17DRP5sb8fy/17DRP5sb8fy.glb' specified in Scene Attributes exists in dataset library.\n",
      "[08:44:41:999028]:[Metadata] SceneDatasetAttributes.cpp(84)::addNewSceneInstanceToDataset : Dataset : 'mp3d' : Lighting Layout Attributes 'no_lights' specified in Scene Attributes but does not exist in dataset, so creating.\n",
      "[08:44:41:999034]:[Metadata] AttributesManagerBase.h(380)::createFromJsonOrDefaultInternal : <Lighting Layout>: Proposing JSON name : no_lights.lighting_config.json from original name : no_lights| This file does not exist.\n",
      "[08:44:41:999044]:[Metadata] LightLayoutAttributesManager.cpp(36)::createObject : File (no_lights) not found, so new default light layout attributes created and registered.\n",
      "[08:44:41:999050]:[Sim] Simulator.cpp(237)::createSceneInstance : Navmesh file location in scene instance : ../data/scene_datasets/mp3d/17DRP5sb8fy/17DRP5sb8fy.navmesh\n",
      "[08:44:41:999057]:[Sim] Simulator.cpp(242)::createSceneInstance : Loading navmesh from ../data/scene_datasets/mp3d/17DRP5sb8fy/17DRP5sb8fy.navmesh\n",
      "[08:44:41:999064]:[Nav] PathFinder.cpp(852)::loadNavMesh : NavMeshSettings aren't present, guessing that they are the default\n",
      "[08:44:41:999197]:[Sim] Simulator.cpp(244)::createSceneInstance : Navmesh Loaded.\n",
      "[08:44:41:999206]:[Scene] SceneGraph.h(85)::createDrawableGroup : Created DrawableGroup: \n",
      "[08:44:41:999210]:[Assets] ResourceManager.cpp(297)::loadSemanticSceneDescriptor : SceneInstance : ../data/scene_datasets/mp3d/17DRP5sb8fy/17DRP5sb8fy.glb proposed Semantic Scene Descriptor filename : ../data/scene_datasets/mp3d/17DRP5sb8fy/17DRP5sb8fy.house\n",
      "[08:44:42:011523]:[Assets] ResourceManager.cpp(308)::loadSemanticSceneDescriptor : SSD with SceneInstanceAttributes-provided name  ../data/scene_datasets/mp3d/17DRP5sb8fy/17DRP5sb8fy.house successfully found and loaded\n",
      "[08:44:42:011547]:[Assets] ResourceManager.cpp(1652)::ConfigureImporterManagerGLExtensions : Importing Basis files as BC7.\n",
      "[08:44:42:011649]:[Sim] Simulator.cpp(302)::createSceneInstance : Using scene instance-specified Light key : - no_lights -\n",
      "[08:44:42:011655]:[Metadata] MetadataMediator.cpp(66)::setSimulatorConfiguration : Set new simulator config for scene/stage : ../data/scene_datasets/mp3d/17DRP5sb8fy/17DRP5sb8fy.glb and dataset : ../data/scene_datasets/mp3d/mp3d.scene_dataset_config.json which is currently active dataset.\n",
      "[08:44:42:011669]:[Sim] Simulator.cpp(412)::instanceStageForSceneAttributes : Start to load stage named : ../data/scene_datasets/mp3d/17DRP5sb8fy/17DRP5sb8fy.glb with render asset : ../data/scene_datasets/mp3d/17DRP5sb8fy/17DRP5sb8fy.glb and collision asset : ../data/scene_datasets/mp3d/17DRP5sb8fy/17DRP5sb8fy.glb\n",
      "[08:44:42:011690]:[Assets] ResourceManager.cpp(691)::createStageAssetInfosFromAttributes : Frame :{\"up\":[0,0,1],\"front\":[0,1,0],\"origin\":[0,0,0]} for render mesh named : ../data/scene_datasets/mp3d/17DRP5sb8fy/17DRP5sb8fy.glb|{\"up\":[0,1,0],\"front\":[0,0,-1],\"origin\":[0,0,0]} for semantic mesh named : ../data/scene_datasets/mp3d/17DRP5sb8fy/17DRP5sb8fy_semantic.ply with type specified as semantic|Semantic Txtrs : False\n",
      "[08:44:42:011697]:[Assets] ResourceManager.cpp(431)::loadStage : Loading Semantic Stage mesh : ../data/scene_datasets/mp3d/17DRP5sb8fy/17DRP5sb8fy_semantic.ply\n",
      "[08:44:42:011701]:[Scene] SceneGraph.h(85)::createDrawableGroup : Created DrawableGroup: \n",
      "[08:44:42:011704]:[Assets] ResourceManager.cpp(973)::loadStageInternal : Attempting to load stage ../data/scene_datasets/mp3d/17DRP5sb8fy/17DRP5sb8fy_semantic.ply \n",
      "[08:44:42:011708]:[Assets] ResourceManager.cpp(852)::loadRenderAsset : Loading Semantic Mesh asset named: ../data/scene_datasets/mp3d/17DRP5sb8fy/17DRP5sb8fy_semantic.ply\n",
      "[08:44:42:011711]:[Assets] ResourceManager.cpp(1652)::ConfigureImporterManagerGLExtensions : Importing Basis files as BC7.\n",
      "[08:44:43:235395]:[Assets] ResourceManager.cpp(464)::loadStage : Semantic Stage mesh : ../data/scene_datasets/mp3d/17DRP5sb8fy/17DRP5sb8fy_semantic.ply loaded.\n",
      "[08:44:43:235418]:[Assets] ResourceManager.cpp(507)::loadStage : Start load render asset ../data/scene_datasets/mp3d/17DRP5sb8fy/17DRP5sb8fy.glb .\n",
      "[08:44:43:235422]:[Assets] ResourceManager.cpp(973)::loadStageInternal : Attempting to load stage ../data/scene_datasets/mp3d/17DRP5sb8fy/17DRP5sb8fy.glb \n",
      "[08:44:43:235784]:[Assets] ResourceManager.cpp(855)::loadRenderAsset : Loading general asset named: ../data/scene_datasets/mp3d/17DRP5sb8fy/17DRP5sb8fy.glb\n",
      "[08:44:43:235797]:[Assets] ResourceManager.cpp(1652)::ConfigureImporterManagerGLExtensions : Importing Basis files as BC7.\n",
      "[08:44:43:720164]:[Assets] ResourceManager.cpp(2089)::loadMaterials : Building 23 materials for asset named '17DRP5sb8fy.glb' : \n",
      "[08:44:43:720224]:[Assets] ResourceManager.cpp(2194)::loadMaterials : Idx 00:Flat.\n",
      "[08:44:43:720233]:[Assets] ResourceManager.cpp(2194)::loadMaterials : Idx 01:Flat.\n",
      "[08:44:43:720238]:[Assets] ResourceManager.cpp(2194)::loadMaterials : Idx 02:Flat.\n",
      "[08:44:43:720244]:[Assets] ResourceManager.cpp(2194)::loadMaterials : Idx 03:Flat.\n",
      "[08:44:43:720250]:[Assets] ResourceManager.cpp(2194)::loadMaterials : Idx 04:Flat.\n",
      "[08:44:43:720255]:[Assets] ResourceManager.cpp(2194)::loadMaterials : Idx 05:Flat.\n",
      "[08:44:43:720260]:[Assets] ResourceManager.cpp(2194)::loadMaterials : Idx 06:Flat.\n",
      "[08:44:43:720265]:[Assets] ResourceManager.cpp(2194)::loadMaterials : Idx 07:Flat.\n",
      "[08:44:43:720271]:[Assets] ResourceManager.cpp(2194)::loadMaterials : Idx 08:Flat.\n",
      "[08:44:43:720276]:[Assets] ResourceManager.cpp(2194)::loadMaterials : Idx 09:Flat.\n",
      "[08:44:43:720281]:[Assets] ResourceManager.cpp(2194)::loadMaterials : Idx 10:Flat.\n",
      "[08:44:43:720286]:[Assets] ResourceManager.cpp(2194)::loadMaterials : Idx 11:Flat.\n",
      "[08:44:43:720292]:[Assets] ResourceManager.cpp(2194)::loadMaterials : Idx 12:Flat.\n",
      "[08:44:43:720297]:[Assets] ResourceManager.cpp(2194)::loadMaterials : Idx 13:Flat.\n",
      "[08:44:43:720302]:[Assets] ResourceManager.cpp(2194)::loadMaterials : Idx 14:Flat.\n",
      "[08:44:43:720307]:[Assets] ResourceManager.cpp(2194)::loadMaterials : Idx 15:Flat.\n",
      "[08:44:43:720313]:[Assets] ResourceManager.cpp(2194)::loadMaterials : Idx 16:Flat.\n",
      "[08:44:43:720318]:[Assets] ResourceManager.cpp(2194)::loadMaterials : Idx 17:Flat.\n",
      "[08:44:43:720323]:[Assets] ResourceManager.cpp(2194)::loadMaterials : Idx 18:Flat.\n",
      "[08:44:43:720328]:[Assets] ResourceManager.cpp(2194)::loadMaterials : Idx 19:Flat.\n",
      "[08:44:43:720333]:[Assets] ResourceManager.cpp(2194)::loadMaterials : Idx 20:Flat.\n",
      "[08:44:43:720338]:[Assets] ResourceManager.cpp(2194)::loadMaterials : Idx 21:Flat.\n",
      "[08:44:43:720343]:[Assets] ResourceManager.cpp(2194)::loadMaterials : Idx 22:Flat.\n",
      "[08:44:43:737085]:[Sim] Simulator.cpp(439)::instanceStageForSceneAttributes : Successfully loaded stage named : ../data/scene_datasets/mp3d/17DRP5sb8fy/17DRP5sb8fy.glb\n",
      "[08:44:43:737108]:[Sim] Simulator.cpp(205)::reconfigure : CreateSceneInstance success == true for active scene name : ../data/scene_datasets/mp3d/17DRP5sb8fy/17DRP5sb8fy.glb  with renderer.\n",
      "source_poses [array([ 1.0641686 ,  0.072447  , -0.07164948], dtype=float32)]\n",
      "agent 0 reseting\n",
      "[08:44:43:794979]:[Sensor] AudioSensor.cpp(24)::AudioSensorSpec : [Audio]  AudioSensorSpec constructor\n",
      "[08:44:43:795390]:[Sensor] AudioSensor.cpp(42)::sanityCheck : [Audio]  SanityCheck the audio sensor spec\n",
      "[08:44:43:795419]:[Sensor] AudioSensor.cpp(56)::AudioSensor : [Audio]  AudioSensor constructor\n",
      "[08:44:43:795432]:[Sensor] AudioSensor.cpp(42)::sanityCheck : [Audio]  SanityCheck the audio sensor spec\n",
      "[08:44:43:795497]:[Sensor] AudioSensor.cpp(169)::setAudioMaterialsJSON : Set audio materials database to json file :  ../data/mp3d_material_config.json\n",
      "[08:44:43:795516]:[Sensor] AudioSensor.cpp(24)::AudioSensorSpec : [Audio]  AudioSensorSpec constructor\n",
      "[08:44:43:795575]:[Sensor] AudioSensor.cpp(42)::sanityCheck : [Audio]  SanityCheck the audio sensor spec\n",
      "[08:44:43:795589]:[Sensor] AudioSensor.cpp(56)::AudioSensor : [Audio]  AudioSensor constructor\n",
      "[08:44:43:795601]:[Sensor] AudioSensor.cpp(42)::sanityCheck : [Audio]  SanityCheck the audio sensor spec\n",
      "[08:44:43:795636]:[Sensor] AudioSensor.cpp(169)::setAudioMaterialsJSON : Set audio materials database to json file :  ../data/mp3d_material_config.json\n",
      "[08:44:43:795799]:[Scene] SceneGraph.h(85)::createDrawableGroup : Created DrawableGroup: \n",
      "[08:44:43:795858]:[Scene] SceneGraph.h(85)::createDrawableGroup : Created DrawableGroup: \n",
      "[08:44:43:796828]:[Sensor] AudioSensor.cpp(86)::setAudioSourceTransform : [Audio]  Setting the audio source position :  Vector(1.06417, 0.072447, -0.0716495) ]\n",
      "[08:44:43:796875]:[Sensor] AudioSensor.cpp(321)::createAudioSimulator : [Audio]  Create audio simulator\n",
      "CreateContext: Context created\n",
      "[08:44:43:797438]:[Sensor] AudioSensor.cpp(86)::setAudioSourceTransform : [Audio]  Setting the audio source position :  Vector(1.06417, 0.072447, -0.0716495) ]\n",
      "[08:44:43:797465]:[Sensor] AudioSensor.cpp(321)::createAudioSimulator : [Audio]  Create audio simulator\n",
      "CreateContext: Context created\n",
      "agent 0 initialization retried.\n",
      "agent 0 initialization retried.\n",
      "agent_state.position [-1.7282097  0.072447  -1.7277813]\n",
      "agent 1 reseting\n",
      "agent_state.position [-3.6327329  0.072447  -3.5872822]\n"
     ]
    },
    {
     "name": "stderr",
     "output_type": "stream",
     "text": [
      "[08:44:41:929323]:[Metadata] SceneDatasetAttributesManager.cpp(308)::readDatasetJSONCell : \"stages.default_attributes\" set in Attributes Manager from JSON.\n",
      "[08:44:41:929345]:[Metadata] AttributesManagerBase.h(352)::buildAttrSrcPathsFromJSONAndLoad : Glob path result for ../data/scene_datasets/mp3d/*/*.glb : ../data/scene_datasets/mp3d/17DRP5sb8fy/17DRP5sb8fy.glb\n",
      "[08:44:41:929395]:[Metadata] SceneInstanceAttributesManager.cpp(65)::setValsFromJSONDoc : No Stage specified for scene default_attributes , or specification error.\n",
      "[08:44:41:929398]:[Metadata] SceneInstanceAttributesManager.cpp(105)::setValsFromJSONDoc : No Articulated Objects specified for scene default_attributes , or specification error.\n",
      "[08:44:41:929401]:[Metadata] SceneInstanceAttributesManager.cpp(125)::setValsFromJSONDoc : No navmesh_instance specified for scene default_attributes .\n",
      "[08:44:41:929404]:[Metadata] SceneInstanceAttributesManager.cpp(135)::setValsFromJSONDoc : No semantic_scene_instance specified for scene default_attributes .\n",
      "[08:44:41:929407]:[Metadata] SceneDatasetAttributesManager.cpp(308)::readDatasetJSONCell : \"scene_instances.default_attributes\" set in Attributes Manager from JSON.\n",
      "Material for category 'picture' was not found. Using default material instead.\n",
      "Material for category 'objects' was not found. Using default material instead.\n",
      "Material for category 'void' was not found. Using default material instead.\n",
      "Material for category 'misc' was not found. Using default material instead.\n"
     ]
    },
    {
     "name": "stdout",
     "output_type": "stream",
     "text": [
      "[08:44:43:801692]:[Sensor] AudioSensor.cpp(104)::setAudioListenerTransform : [Audio]  Setting the agent transform : position [ Vector(-1.72821, 0.072447, -1.72778) ], rotQuat[ Vector(1, 0, 0, 0) ]\n",
      "[08:44:43:801752]:[Sensor] AudioSensor.cpp(321)::createAudioSimulator : [Audio]  Create audio simulator\n",
      "[08:44:43:801773]:[Sensor] AudioSensor.cpp(130)::runSimulation : [Audio]  Running the audio simulator\n",
      "[08:44:43:801784]:[Sensor] AudioSensor.cpp(135)::runSimulation : [Audio]  New initialization, will upload geometry\n",
      "[08:44:43:801793]:[Sensor] AudioSensor.cpp(139)::runSimulation : [Audio]  Loading semantic scene\n",
      "[08:44:43:801802]:[Sensor] AudioSensor.cpp(361)::loadSemanticMesh : [Audio]  Loading semantic mesh true\n",
      "[08:44:44:030921]:[Sensor] AudioSensor.cpp(450)::loadSemanticMesh : [Audio]   Index count:  77148 , Material:  shelving\n",
      "[08:44:44:031058]:[Sensor] AudioSensor.cpp(450)::loadSemanticMesh : [Audio]   Index count:  404010 , Material:  chair\n",
      "[08:44:44:031178]:[Sensor] AudioSensor.cpp(450)::loadSemanticMesh : [Audio]   Index count:  150918 , Material:  picture\n",
      "[08:44:44:031696]:[Sensor] AudioSensor.cpp(450)::loadSemanticMesh : [Audio]   Index count:  61065 , Material:  counter\n",
      "[08:44:44:031771]:[Sensor] AudioSensor.cpp(450)::loadSemanticMesh : [Audio]   Index count:  119859 , Material:  cushion\n",
      "[08:44:44:031894]:[Sensor] AudioSensor.cpp(450)::loadSemanticMesh : [Audio]   Index count:  99315 , Material:  tv_monitor\n",
      "[08:44:44:032022]:[Sensor] AudioSensor.cpp(450)::loadSemanticMesh : [Audio]   Index count:  192525 , Material:  objects\n",
      "[08:44:44:033986]:[Sensor] AudioSensor.cpp(450)::loadSemanticMesh : [Audio]   Index count:  1121892 , Material:  floor\n",
      "[08:44:44:035810]:[Sensor] AudioSensor.cpp(450)::loadSemanticMesh : [Audio]   Index count:  287475 , Material:  sofa\n",
      "[08:44:44:036046]:[Sensor] AudioSensor.cpp(450)::loadSemanticMesh : [Audio]   Index count:  64806 , Material:  cabinet\n",
      "[08:44:44:036346]:[Sensor] AudioSensor.cpp(450)::loadSemanticMesh : [Audio]   Index count:  922128 , Material:  ceiling\n",
      "[08:44:44:037095]:[Sensor] AudioSensor.cpp(450)::loadSemanticMesh : [Audio]   Index count:  27489 , Material:  furniture\n",
      "[08:44:44:037161]:[Sensor] AudioSensor.cpp(450)::loadSemanticMesh : [Audio]   Index count:  187962 , Material:  void\n",
      "[08:44:44:038611]:[Sensor] AudioSensor.cpp(450)::loadSemanticMesh : [Audio]   Index count:  2880879 , Material:  wall\n",
      "[08:44:44:043741]:[Sensor] AudioSensor.cpp(450)::loadSemanticMesh : [Audio]   Index count:  20028 , Material:  appliances\n",
      "[08:44:44:043777]:[Sensor] AudioSensor.cpp(450)::loadSemanticMesh : [Audio]   Index count:  23367 , Material:  chest_of_drawers\n",
      "[08:44:44:043899]:[Sensor] AudioSensor.cpp(450)::loadSemanticMesh : [Audio]   Index count:  379536 , Material:  door\n",
      "[08:44:44:044182]:[Sensor] AudioSensor.cpp(450)::loadSemanticMesh : [Audio]   Index count:  27876 , Material:  clothes\n",
      "[08:44:44:044218]:[Sensor] AudioSensor.cpp(450)::loadSemanticMesh : [Audio]   Index count:  24354 , Material:  \n",
      "[08:44:44:044272]:[Sensor] AudioSensor.cpp(450)::loadSemanticMesh : [Audio]   Index count:  152025 , Material:  shower\n",
      "[08:44:44:044464]:[Sensor] AudioSensor.cpp(450)::loadSemanticMesh : [Audio]   Index count:  372825 , Material:  misc\n",
      "[08:44:44:044759]:[Sensor] AudioSensor.cpp(450)::loadSemanticMesh : [Audio]   Index count:  66945 , Material:  sink\n",
      "[08:44:44:045001]:[Sensor] AudioSensor.cpp(450)::loadSemanticMesh : [Audio]   Index count:  827151 , Material:  curtain\n",
      "[08:44:44:052118]:[Sensor] AudioSensor.cpp(450)::loadSemanticMesh : [Audio]   Index count:  82611 , Material:  lighting\n",
      "[08:44:44:052208]:[Sensor] AudioSensor.cpp(450)::loadSemanticMesh : [Audio]   Index count:  90030 , Material:  bed\n",
      "[08:44:44:052284]:[Sensor] AudioSensor.cpp(450)::loadSemanticMesh : [Audio]   Index count:  35526 , Material:  towel\n",
      "[08:44:44:052350]:[Sensor] AudioSensor.cpp(450)::loadSemanticMesh : [Audio]   Index count:  130371 , Material:  mirror\n",
      "[08:44:44:052452]:[Sensor] AudioSensor.cpp(450)::loadSemanticMesh : [Audio]   Index count:  20019 , Material:  blinds\n",
      "[08:44:44:052485]:[Sensor] AudioSensor.cpp(450)::loadSemanticMesh : [Audio]   Index count:  70173 , Material:  stool\n",
      "[08:44:44:052551]:[Sensor] AudioSensor.cpp(450)::loadSemanticMesh : [Audio]   Index count:  51462 , Material:  table\n",
      "[08:44:44:052606]:[Sensor] AudioSensor.cpp(450)::loadSemanticMesh : [Audio]   Index count:  76977 , Material:  toilet\n",
      "[08:44:45:499232]:[Sensor] AudioSensor.cpp(104)::setAudioListenerTransform : [Audio]  Setting the agent transform : position [ Vector(-3.63273, 0.072447, -3.58728) ], rotQuat[ Vector(1, 0, 0, 0) ]\n",
      "[08:44:45:499287]:[Sensor] AudioSensor.cpp(321)::createAudioSimulator : [Audio]  Create audio simulator\n",
      "[08:44:45:499294]:[Sensor] AudioSensor.cpp(130)::runSimulation : [Audio]  Running the audio simulator\n",
      "[08:44:45:499297]:[Sensor] AudioSensor.cpp(135)::runSimulation : [Audio]  New initialization, will upload geometry\n",
      "[08:44:45:499300]:[Sensor] AudioSensor.cpp(139)::runSimulation : [Audio]  Loading semantic scene\n",
      "[08:44:45:499303]:[Sensor] AudioSensor.cpp(361)::loadSemanticMesh : [Audio]  Loading semantic mesh true\n",
      "[08:44:45:722167]:[Sensor] AudioSensor.cpp(450)::loadSemanticMesh : [Audio]   Index count:  77148 , Material:  shelving\n",
      "[08:44:45:722286]:[Sensor] AudioSensor.cpp(450)::loadSemanticMesh : [Audio]   Index count:  404010 , Material:  chair\n",
      "[08:44:45:722404]:[Sensor] AudioSensor.cpp(450)::loadSemanticMesh : [Audio]   Index count:  150918 , Material:  picture\n",
      "[08:44:45:722945]:[Sensor] AudioSensor.cpp(450)::loadSemanticMesh : [Audio]   Index count:  61065 , Material:  counter\n",
      "[08:44:45:723017]:[Sensor] AudioSensor.cpp(450)::loadSemanticMesh : [Audio]   Index count:  119859 , Material:  cushion\n",
      "[08:44:45:723130]:[Sensor] AudioSensor.cpp(450)::loadSemanticMesh : [Audio]   Index count:  99315 , Material:  tv_monitor\n",
      "[08:44:45:723232]:[Sensor] AudioSensor.cpp(450)::loadSemanticMesh : [Audio]   Index count:  192525 , Material:  objects\n",
      "[08:44:45:724399]:[Sensor] AudioSensor.cpp(450)::loadSemanticMesh : [Audio]   Index count:  1121892 , Material:  floor\n",
      "[08:44:45:726233]:[Sensor] AudioSensor.cpp(450)::loadSemanticMesh : [Audio]   Index count:  287475 , Material:  sofa\n",
      "[08:44:45:726467]:[Sensor] AudioSensor.cpp(450)::loadSemanticMesh : [Audio]   Index count:  64806 , Material:  cabinet\n",
      "[08:44:45:726768]:[Sensor] AudioSensor.cpp(450)::loadSemanticMesh : [Audio]   Index count:  922128 , Material:  ceiling\n",
      "[08:44:45:727559]:[Sensor] AudioSensor.cpp(450)::loadSemanticMesh : [Audio]   Index count:  27489 , Material:  furniture\n",
      "[08:44:45:727623]:[Sensor] AudioSensor.cpp(450)::loadSemanticMesh : [Audio]   Index count:  187962 , Material:  void\n",
      "[08:44:45:730657]:[Sensor] AudioSensor.cpp(450)::loadSemanticMesh : [Audio]   Index count:  2880879 , Material:  wall\n",
      "[08:44:45:736058]:[Sensor] AudioSensor.cpp(450)::loadSemanticMesh : [Audio]   Index count:  20028 , Material:  appliances\n",
      "[08:44:45:736087]:[Sensor] AudioSensor.cpp(450)::loadSemanticMesh : [Audio]   Index count:  23367 , Material:  chest_of_drawers\n",
      "[08:44:45:736207]:[Sensor] AudioSensor.cpp(450)::loadSemanticMesh : [Audio]   Index count:  379536 , Material:  door\n",
      "[08:44:45:736503]:[Sensor] AudioSensor.cpp(450)::loadSemanticMesh : [Audio]   Index count:  27876 , Material:  clothes\n",
      "[08:44:45:736537]:[Sensor] AudioSensor.cpp(450)::loadSemanticMesh : [Audio]   Index count:  24354 , Material:  \n",
      "[08:44:45:736588]:[Sensor] AudioSensor.cpp(450)::loadSemanticMesh : [Audio]   Index count:  152025 , Material:  shower\n",
      "[08:44:45:736785]:[Sensor] AudioSensor.cpp(450)::loadSemanticMesh : [Audio]   Index count:  372825 , Material:  misc\n",
      "[08:44:45:737082]:[Sensor] AudioSensor.cpp(450)::loadSemanticMesh : [Audio]   Index count:  66945 , Material:  sink\n",
      "[08:44:45:737335]:[Sensor] AudioSensor.cpp(450)::loadSemanticMesh : [Audio]   Index count:  827151 , Material:  curtain\n",
      "[08:44:45:744892]:[Sensor] AudioSensor.cpp(450)::loadSemanticMesh : [Audio]   Index count:  82611 , Material:  lighting\n",
      "[08:44:45:744980]:[Sensor] AudioSensor.cpp(450)::loadSemanticMesh : [Audio]   Index count:  90030 , Material:  bed\n",
      "[08:44:45:745064]:[Sensor] AudioSensor.cpp(450)::loadSemanticMesh : [Audio]   Index count:  35526 , Material:  towel\n",
      "[08:44:45:745133]:[Sensor] AudioSensor.cpp(450)::loadSemanticMesh : [Audio]   Index count:  130371 , Material:  mirror\n",
      "[08:44:45:745229]:[Sensor] AudioSensor.cpp(450)::loadSemanticMesh : [Audio]   Index count:  20019 , Material:  blinds\n",
      "[08:44:45:745258]:[Sensor] AudioSensor.cpp(450)::loadSemanticMesh : [Audio]   Index count:  70173 , Material:  stool\n",
      "[08:44:45:745320]:[Sensor] AudioSensor.cpp(450)::loadSemanticMesh : [Audio]   Index count:  51462 , Material:  table\n",
      "[08:44:45:745370]:[Sensor] AudioSensor.cpp(450)::loadSemanticMesh : [Audio]   Index count:  76977 , Material:  toilet\n"
     ]
    },
    {
     "name": "stderr",
     "output_type": "stream",
     "text": [
      "Material for category 'picture' was not found. Using default material instead.\n",
      "Material for category 'objects' was not found. Using default material instead.\n",
      "Material for category 'void' was not found. Using default material instead.\n",
      "Material for category 'misc' was not found. Using default material instead.\n"
     ]
    }
   ],
   "source": [
    "env = Env(config)\n",
    "env.reset()\n",
    "sim = env._sim"
   ]
  },
  {
   "cell_type": "code",
   "execution_count": 26,
   "metadata": {},
   "outputs": [],
   "source": [
    "height = sim.pathfinder.get_bounds()[0][1]\n",
    "meters_per_pixel = 0.1\n",
    "sim_topdown_map = sim.pathfinder.get_topdown_view(meters_per_pixel, height)\n",
    "hablab_topdown_map = maps.get_topdown_map(\n",
    "            sim.pathfinder, height, meters_per_pixel=meters_per_pixel\n",
    "        )\n",
    "recolor_map = np.array(\n",
    "            [[255, 255, 255], [128, 128, 128], [0, 0, 0]], dtype=np.uint8\n",
    "        )\n",
    "hablab_topdown_map = recolor_map[hablab_topdown_map]"
   ]
  },
  {
   "cell_type": "code",
   "execution_count": 27,
   "metadata": {},
   "outputs": [
    {
     "data": {
      "image/png": "[encoded data removed]",
      "text/plain": [
       "<Figure size 1200x800 with 1 Axes>"
      ]
     },
     "metadata": {},
     "output_type": "display_data"
    }
   ],
   "source": [
    "drawer = Draw()\n",
    "drawer.display_map(sim_topdown_map)"
   ]
  },
  {
   "cell_type": "code",
   "execution_count": 28,
   "metadata": {},
   "outputs": [
    {
     "data": {
      "image/png": "[encoded data removed]",
      "text/plain": [
       "<Figure size 1200x800 with 1 Axes>"
      ]
     },
     "metadata": {},
     "output_type": "display_data"
    }
   ],
   "source": [
    "drawer.display_map(hablab_topdown_map)"
   ]
  }
 ],
 "metadata": {
  "kernelspec": {
   "display_name": "ss",
   "language": "python",
   "name": "python3"
  },
  "language_info": {
   "codemirror_mode": {
    "name": "ipython",
    "version": 3
   },
   "file_extension": ".py",
   "mimetype": "text/x-python",
   "name": "python",
   "nbconvert_exporter": "python",
   "pygments_lexer": "ipython3",
   "version": "3.9.18"
  }
 },
 "nbformat": 4,
 "nbformat_minor": 2
}
